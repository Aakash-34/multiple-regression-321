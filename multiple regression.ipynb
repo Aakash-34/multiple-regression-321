{
 "cells": [
  {
   "cell_type": "code",
   "execution_count": 91,
   "id": "1964b98c",
   "metadata": {},
   "outputs": [],
   "source": [
    "import pandas as pd"
   ]
  },
  {
   "cell_type": "code",
   "execution_count": 92,
   "id": "cd267daf",
   "metadata": {},
   "outputs": [],
   "source": [
    "data = pd.read_excel(r'C:\\Users\\Akash Sharma\\Downloads\\SampleSuperstorei.xlsx')"
   ]
  },
  {
   "cell_type": "code",
   "execution_count": 93,
   "id": "0a97e145",
   "metadata": {},
   "outputs": [
    {
     "data": {
      "text/html": [
       "<div>\n",
       "<style scoped>\n",
       "    .dataframe tbody tr th:only-of-type {\n",
       "        vertical-align: middle;\n",
       "    }\n",
       "\n",
       "    .dataframe tbody tr th {\n",
       "        vertical-align: top;\n",
       "    }\n",
       "\n",
       "    .dataframe thead th {\n",
       "        text-align: right;\n",
       "    }\n",
       "</style>\n",
       "<table border=\"1\" class=\"dataframe\">\n",
       "  <thead>\n",
       "    <tr style=\"text-align: right;\">\n",
       "      <th></th>\n",
       "      <th>Ship Mode</th>\n",
       "      <th>Segment</th>\n",
       "      <th>Country</th>\n",
       "      <th>City</th>\n",
       "      <th>State</th>\n",
       "      <th>Postal Code</th>\n",
       "      <th>Region</th>\n",
       "      <th>Category</th>\n",
       "      <th>Bookcases</th>\n",
       "      <th>Chairs</th>\n",
       "      <th>Tables</th>\n",
       "      <th>Furnishings</th>\n",
       "      <th>Sales</th>\n",
       "      <th>Quantity</th>\n",
       "      <th>Discount</th>\n",
       "      <th>Profit</th>\n",
       "    </tr>\n",
       "  </thead>\n",
       "  <tbody>\n",
       "    <tr>\n",
       "      <th>0</th>\n",
       "      <td>Second Class</td>\n",
       "      <td>Consumer</td>\n",
       "      <td>United States</td>\n",
       "      <td>Henderson</td>\n",
       "      <td>Kentucky</td>\n",
       "      <td>42420</td>\n",
       "      <td>South</td>\n",
       "      <td>Furniture</td>\n",
       "      <td>1</td>\n",
       "      <td>0</td>\n",
       "      <td>0</td>\n",
       "      <td>0</td>\n",
       "      <td>261.9600</td>\n",
       "      <td>2</td>\n",
       "      <td>0</td>\n",
       "      <td>65.490000</td>\n",
       "    </tr>\n",
       "    <tr>\n",
       "      <th>1</th>\n",
       "      <td>Second Class</td>\n",
       "      <td>Consumer</td>\n",
       "      <td>United States</td>\n",
       "      <td>Henderson</td>\n",
       "      <td>Kentucky</td>\n",
       "      <td>42420</td>\n",
       "      <td>South</td>\n",
       "      <td>Furniture</td>\n",
       "      <td>0</td>\n",
       "      <td>1</td>\n",
       "      <td>0</td>\n",
       "      <td>0</td>\n",
       "      <td>731.9400</td>\n",
       "      <td>3</td>\n",
       "      <td>0</td>\n",
       "      <td>182.985000</td>\n",
       "    </tr>\n",
       "    <tr>\n",
       "      <th>2</th>\n",
       "      <td>Standard Class</td>\n",
       "      <td>Consumer</td>\n",
       "      <td>United States</td>\n",
       "      <td>Fort Lauderdale</td>\n",
       "      <td>Florida</td>\n",
       "      <td>33311</td>\n",
       "      <td>South</td>\n",
       "      <td>Furniture</td>\n",
       "      <td>0</td>\n",
       "      <td>0</td>\n",
       "      <td>1</td>\n",
       "      <td>0</td>\n",
       "      <td>957.5775</td>\n",
       "      <td>5</td>\n",
       "      <td>45</td>\n",
       "      <td>239.394375</td>\n",
       "    </tr>\n",
       "    <tr>\n",
       "      <th>3</th>\n",
       "      <td>Standard Class</td>\n",
       "      <td>Consumer</td>\n",
       "      <td>United States</td>\n",
       "      <td>Los Angeles</td>\n",
       "      <td>California</td>\n",
       "      <td>90032</td>\n",
       "      <td>West</td>\n",
       "      <td>Furniture</td>\n",
       "      <td>0</td>\n",
       "      <td>0</td>\n",
       "      <td>0</td>\n",
       "      <td>1</td>\n",
       "      <td>48.8600</td>\n",
       "      <td>7</td>\n",
       "      <td>0</td>\n",
       "      <td>17.000000</td>\n",
       "    </tr>\n",
       "    <tr>\n",
       "      <th>4</th>\n",
       "      <td>Standard Class</td>\n",
       "      <td>Consumer</td>\n",
       "      <td>United States</td>\n",
       "      <td>Los Angeles</td>\n",
       "      <td>California</td>\n",
       "      <td>90032</td>\n",
       "      <td>West</td>\n",
       "      <td>Furniture</td>\n",
       "      <td>0</td>\n",
       "      <td>0</td>\n",
       "      <td>1</td>\n",
       "      <td>0</td>\n",
       "      <td>1706.1840</td>\n",
       "      <td>9</td>\n",
       "      <td>20</td>\n",
       "      <td>426.546000</td>\n",
       "    </tr>\n",
       "  </tbody>\n",
       "</table>\n",
       "</div>"
      ],
      "text/plain": [
       "        Ship Mode   Segment        Country             City       State  \\\n",
       "0    Second Class  Consumer  United States        Henderson    Kentucky   \n",
       "1    Second Class  Consumer  United States        Henderson    Kentucky   \n",
       "2  Standard Class  Consumer  United States  Fort Lauderdale     Florida   \n",
       "3  Standard Class  Consumer  United States      Los Angeles  California   \n",
       "4  Standard Class  Consumer  United States      Los Angeles  California   \n",
       "\n",
       "   Postal Code Region   Category  Bookcases  Chairs  Tables  Furnishings  \\\n",
       "0        42420  South  Furniture          1       0       0            0   \n",
       "1        42420  South  Furniture          0       1       0            0   \n",
       "2        33311  South  Furniture          0       0       1            0   \n",
       "3        90032   West  Furniture          0       0       0            1   \n",
       "4        90032   West  Furniture          0       0       1            0   \n",
       "\n",
       "       Sales  Quantity  Discount      Profit  \n",
       "0   261.9600         2         0   65.490000  \n",
       "1   731.9400         3         0  182.985000  \n",
       "2   957.5775         5        45  239.394375  \n",
       "3    48.8600         7         0   17.000000  \n",
       "4  1706.1840         9        20  426.546000  "
      ]
     },
     "execution_count": 93,
     "metadata": {},
     "output_type": "execute_result"
    }
   ],
   "source": [
    "data.head()"
   ]
  },
  {
   "cell_type": "code",
   "execution_count": 94,
   "id": "00d807eb",
   "metadata": {},
   "outputs": [
    {
     "data": {
      "text/html": [
       "<div>\n",
       "<style scoped>\n",
       "    .dataframe tbody tr th:only-of-type {\n",
       "        vertical-align: middle;\n",
       "    }\n",
       "\n",
       "    .dataframe tbody tr th {\n",
       "        vertical-align: top;\n",
       "    }\n",
       "\n",
       "    .dataframe thead th {\n",
       "        text-align: right;\n",
       "    }\n",
       "</style>\n",
       "<table border=\"1\" class=\"dataframe\">\n",
       "  <thead>\n",
       "    <tr style=\"text-align: right;\">\n",
       "      <th></th>\n",
       "      <th>Postal Code</th>\n",
       "      <th>Bookcases</th>\n",
       "      <th>Chairs</th>\n",
       "      <th>Tables</th>\n",
       "      <th>Furnishings</th>\n",
       "      <th>Sales</th>\n",
       "      <th>Quantity</th>\n",
       "      <th>Discount</th>\n",
       "      <th>Profit</th>\n",
       "    </tr>\n",
       "  </thead>\n",
       "  <tbody>\n",
       "    <tr>\n",
       "      <th>count</th>\n",
       "      <td>249.000000</td>\n",
       "      <td>249.000000</td>\n",
       "      <td>249.000000</td>\n",
       "      <td>249.000000</td>\n",
       "      <td>249.000000</td>\n",
       "      <td>249.000000</td>\n",
       "      <td>249.000000</td>\n",
       "      <td>249.000000</td>\n",
       "      <td>249.000000</td>\n",
       "    </tr>\n",
       "    <tr>\n",
       "      <th>mean</th>\n",
       "      <td>52844.779116</td>\n",
       "      <td>0.092369</td>\n",
       "      <td>0.285141</td>\n",
       "      <td>0.164659</td>\n",
       "      <td>0.457831</td>\n",
       "      <td>391.117068</td>\n",
       "      <td>3.899598</td>\n",
       "      <td>16.959839</td>\n",
       "      <td>105.747688</td>\n",
       "    </tr>\n",
       "    <tr>\n",
       "      <th>std</th>\n",
       "      <td>31294.697804</td>\n",
       "      <td>0.290130</td>\n",
       "      <td>0.452391</td>\n",
       "      <td>0.371619</td>\n",
       "      <td>0.499222</td>\n",
       "      <td>490.115006</td>\n",
       "      <td>2.444950</td>\n",
       "      <td>17.574679</td>\n",
       "      <td>133.575769</td>\n",
       "    </tr>\n",
       "    <tr>\n",
       "      <th>min</th>\n",
       "      <td>1841.000000</td>\n",
       "      <td>0.000000</td>\n",
       "      <td>0.000000</td>\n",
       "      <td>0.000000</td>\n",
       "      <td>0.000000</td>\n",
       "      <td>2.328000</td>\n",
       "      <td>1.000000</td>\n",
       "      <td>0.000000</td>\n",
       "      <td>0.582000</td>\n",
       "    </tr>\n",
       "    <tr>\n",
       "      <th>25%</th>\n",
       "      <td>22153.000000</td>\n",
       "      <td>0.000000</td>\n",
       "      <td>0.000000</td>\n",
       "      <td>0.000000</td>\n",
       "      <td>0.000000</td>\n",
       "      <td>53.340000</td>\n",
       "      <td>2.000000</td>\n",
       "      <td>0.000000</td>\n",
       "      <td>17.000000</td>\n",
       "    </tr>\n",
       "    <tr>\n",
       "      <th>50%</th>\n",
       "      <td>48227.000000</td>\n",
       "      <td>0.000000</td>\n",
       "      <td>0.000000</td>\n",
       "      <td>0.000000</td>\n",
       "      <td>0.000000</td>\n",
       "      <td>207.846000</td>\n",
       "      <td>3.000000</td>\n",
       "      <td>20.000000</td>\n",
       "      <td>53.278750</td>\n",
       "    </tr>\n",
       "    <tr>\n",
       "      <th>75%</th>\n",
       "      <td>84057.000000</td>\n",
       "      <td>0.000000</td>\n",
       "      <td>1.000000</td>\n",
       "      <td>0.000000</td>\n",
       "      <td>1.000000</td>\n",
       "      <td>542.646000</td>\n",
       "      <td>5.000000</td>\n",
       "      <td>20.000000</td>\n",
       "      <td>141.780000</td>\n",
       "    </tr>\n",
       "    <tr>\n",
       "      <th>max</th>\n",
       "      <td>98661.000000</td>\n",
       "      <td>1.000000</td>\n",
       "      <td>1.000000</td>\n",
       "      <td>1.000000</td>\n",
       "      <td>1.000000</td>\n",
       "      <td>3083.430000</td>\n",
       "      <td>14.000000</td>\n",
       "      <td>60.000000</td>\n",
       "      <td>894.194700</td>\n",
       "    </tr>\n",
       "  </tbody>\n",
       "</table>\n",
       "</div>"
      ],
      "text/plain": [
       "        Postal Code   Bookcases      Chairs      Tables  Furnishings  \\\n",
       "count    249.000000  249.000000  249.000000  249.000000   249.000000   \n",
       "mean   52844.779116    0.092369    0.285141    0.164659     0.457831   \n",
       "std    31294.697804    0.290130    0.452391    0.371619     0.499222   \n",
       "min     1841.000000    0.000000    0.000000    0.000000     0.000000   \n",
       "25%    22153.000000    0.000000    0.000000    0.000000     0.000000   \n",
       "50%    48227.000000    0.000000    0.000000    0.000000     0.000000   \n",
       "75%    84057.000000    0.000000    1.000000    0.000000     1.000000   \n",
       "max    98661.000000    1.000000    1.000000    1.000000     1.000000   \n",
       "\n",
       "             Sales    Quantity    Discount      Profit  \n",
       "count   249.000000  249.000000  249.000000  249.000000  \n",
       "mean    391.117068    3.899598   16.959839  105.747688  \n",
       "std     490.115006    2.444950   17.574679  133.575769  \n",
       "min       2.328000    1.000000    0.000000    0.582000  \n",
       "25%      53.340000    2.000000    0.000000   17.000000  \n",
       "50%     207.846000    3.000000   20.000000   53.278750  \n",
       "75%     542.646000    5.000000   20.000000  141.780000  \n",
       "max    3083.430000   14.000000   60.000000  894.194700  "
      ]
     },
     "execution_count": 94,
     "metadata": {},
     "output_type": "execute_result"
    }
   ],
   "source": [
    "data.describe()"
   ]
  },
  {
   "cell_type": "code",
   "execution_count": 95,
   "id": "83c12736",
   "metadata": {},
   "outputs": [],
   "source": [
    "predictors = ['Chairs', 'Tables', 'Bookcases', 'Furnishings','Sales']\n",
    "outcome = ['Profit']"
   ]
  },
  {
   "cell_type": "code",
   "execution_count": 96,
   "id": "68d2872e",
   "metadata": {},
   "outputs": [
    {
     "data": {
      "text/html": [
       "<div>\n",
       "<style scoped>\n",
       "    .dataframe tbody tr th:only-of-type {\n",
       "        vertical-align: middle;\n",
       "    }\n",
       "\n",
       "    .dataframe tbody tr th {\n",
       "        vertical-align: top;\n",
       "    }\n",
       "\n",
       "    .dataframe thead th {\n",
       "        text-align: right;\n",
       "    }\n",
       "</style>\n",
       "<table border=\"1\" class=\"dataframe\">\n",
       "  <thead>\n",
       "    <tr style=\"text-align: right;\">\n",
       "      <th></th>\n",
       "      <th>Chairs</th>\n",
       "      <th>Tables</th>\n",
       "      <th>Bookcases</th>\n",
       "      <th>Furnishings</th>\n",
       "      <th>Sales</th>\n",
       "    </tr>\n",
       "  </thead>\n",
       "  <tbody>\n",
       "    <tr>\n",
       "      <th>0</th>\n",
       "      <td>0</td>\n",
       "      <td>0</td>\n",
       "      <td>1</td>\n",
       "      <td>0</td>\n",
       "      <td>261.9600</td>\n",
       "    </tr>\n",
       "    <tr>\n",
       "      <th>1</th>\n",
       "      <td>1</td>\n",
       "      <td>0</td>\n",
       "      <td>0</td>\n",
       "      <td>0</td>\n",
       "      <td>731.9400</td>\n",
       "    </tr>\n",
       "    <tr>\n",
       "      <th>2</th>\n",
       "      <td>0</td>\n",
       "      <td>1</td>\n",
       "      <td>0</td>\n",
       "      <td>0</td>\n",
       "      <td>957.5775</td>\n",
       "    </tr>\n",
       "    <tr>\n",
       "      <th>3</th>\n",
       "      <td>0</td>\n",
       "      <td>0</td>\n",
       "      <td>0</td>\n",
       "      <td>1</td>\n",
       "      <td>48.8600</td>\n",
       "    </tr>\n",
       "    <tr>\n",
       "      <th>4</th>\n",
       "      <td>0</td>\n",
       "      <td>1</td>\n",
       "      <td>0</td>\n",
       "      <td>0</td>\n",
       "      <td>1706.1840</td>\n",
       "    </tr>\n",
       "    <tr>\n",
       "      <th>...</th>\n",
       "      <td>...</td>\n",
       "      <td>...</td>\n",
       "      <td>...</td>\n",
       "      <td>...</td>\n",
       "      <td>...</td>\n",
       "    </tr>\n",
       "    <tr>\n",
       "      <th>244</th>\n",
       "      <td>0</td>\n",
       "      <td>0</td>\n",
       "      <td>0</td>\n",
       "      <td>1</td>\n",
       "      <td>15.7120</td>\n",
       "    </tr>\n",
       "    <tr>\n",
       "      <th>245</th>\n",
       "      <td>0</td>\n",
       "      <td>0</td>\n",
       "      <td>0</td>\n",
       "      <td>1</td>\n",
       "      <td>55.9680</td>\n",
       "    </tr>\n",
       "    <tr>\n",
       "      <th>246</th>\n",
       "      <td>1</td>\n",
       "      <td>0</td>\n",
       "      <td>0</td>\n",
       "      <td>0</td>\n",
       "      <td>95.9840</td>\n",
       "    </tr>\n",
       "    <tr>\n",
       "      <th>247</th>\n",
       "      <td>1</td>\n",
       "      <td>0</td>\n",
       "      <td>0</td>\n",
       "      <td>0</td>\n",
       "      <td>544.0080</td>\n",
       "    </tr>\n",
       "    <tr>\n",
       "      <th>248</th>\n",
       "      <td>1</td>\n",
       "      <td>0</td>\n",
       "      <td>0</td>\n",
       "      <td>0</td>\n",
       "      <td>854.3520</td>\n",
       "    </tr>\n",
       "  </tbody>\n",
       "</table>\n",
       "<p>249 rows × 5 columns</p>\n",
       "</div>"
      ],
      "text/plain": [
       "     Chairs  Tables  Bookcases  Furnishings      Sales\n",
       "0         0       0          1            0   261.9600\n",
       "1         1       0          0            0   731.9400\n",
       "2         0       1          0            0   957.5775\n",
       "3         0       0          0            1    48.8600\n",
       "4         0       1          0            0  1706.1840\n",
       "..      ...     ...        ...          ...        ...\n",
       "244       0       0          0            1    15.7120\n",
       "245       0       0          0            1    55.9680\n",
       "246       1       0          0            0    95.9840\n",
       "247       1       0          0            0   544.0080\n",
       "248       1       0          0            0   854.3520\n",
       "\n",
       "[249 rows x 5 columns]"
      ]
     },
     "execution_count": 96,
     "metadata": {},
     "output_type": "execute_result"
    }
   ],
   "source": [
    "x = data[predictors]\n",
    "x"
   ]
  },
  {
   "cell_type": "code",
   "execution_count": 97,
   "id": "6b02deff",
   "metadata": {},
   "outputs": [
    {
     "data": {
      "text/html": [
       "<div>\n",
       "<style scoped>\n",
       "    .dataframe tbody tr th:only-of-type {\n",
       "        vertical-align: middle;\n",
       "    }\n",
       "\n",
       "    .dataframe tbody tr th {\n",
       "        vertical-align: top;\n",
       "    }\n",
       "\n",
       "    .dataframe thead th {\n",
       "        text-align: right;\n",
       "    }\n",
       "</style>\n",
       "<table border=\"1\" class=\"dataframe\">\n",
       "  <thead>\n",
       "    <tr style=\"text-align: right;\">\n",
       "      <th></th>\n",
       "      <th>Profit</th>\n",
       "    </tr>\n",
       "  </thead>\n",
       "  <tbody>\n",
       "    <tr>\n",
       "      <th>0</th>\n",
       "      <td>65.490000</td>\n",
       "    </tr>\n",
       "    <tr>\n",
       "      <th>1</th>\n",
       "      <td>182.985000</td>\n",
       "    </tr>\n",
       "    <tr>\n",
       "      <th>2</th>\n",
       "      <td>239.394375</td>\n",
       "    </tr>\n",
       "    <tr>\n",
       "      <th>3</th>\n",
       "      <td>17.000000</td>\n",
       "    </tr>\n",
       "    <tr>\n",
       "      <th>4</th>\n",
       "      <td>426.546000</td>\n",
       "    </tr>\n",
       "    <tr>\n",
       "      <th>...</th>\n",
       "      <td>...</td>\n",
       "    </tr>\n",
       "    <tr>\n",
       "      <th>244</th>\n",
       "      <td>3.928000</td>\n",
       "    </tr>\n",
       "    <tr>\n",
       "      <th>245</th>\n",
       "      <td>13.992000</td>\n",
       "    </tr>\n",
       "    <tr>\n",
       "      <th>246</th>\n",
       "      <td>23.996000</td>\n",
       "    </tr>\n",
       "    <tr>\n",
       "      <th>247</th>\n",
       "      <td>136.002000</td>\n",
       "    </tr>\n",
       "    <tr>\n",
       "      <th>248</th>\n",
       "      <td>213.588000</td>\n",
       "    </tr>\n",
       "  </tbody>\n",
       "</table>\n",
       "<p>249 rows × 1 columns</p>\n",
       "</div>"
      ],
      "text/plain": [
       "         Profit\n",
       "0     65.490000\n",
       "1    182.985000\n",
       "2    239.394375\n",
       "3     17.000000\n",
       "4    426.546000\n",
       "..          ...\n",
       "244    3.928000\n",
       "245   13.992000\n",
       "246   23.996000\n",
       "247  136.002000\n",
       "248  213.588000\n",
       "\n",
       "[249 rows x 1 columns]"
      ]
     },
     "execution_count": 97,
     "metadata": {},
     "output_type": "execute_result"
    }
   ],
   "source": [
    "y = data[outcome]\n",
    "y"
   ]
  },
  {
   "cell_type": "code",
   "execution_count": 98,
   "id": "99a409f1",
   "metadata": {},
   "outputs": [],
   "source": [
    "from sklearn.model_selection import train_test_split\n",
    "import statsmodels.formula.api as sm"
   ]
  },
  {
   "cell_type": "code",
   "execution_count": 99,
   "id": "f5e7862a",
   "metadata": {},
   "outputs": [],
   "source": [
    "from dmba import backward_elimination, forward_selection, stepwise_selection\n",
    "from dmba import adjusted_r2_score, AIC_score, BIC_score"
   ]
  },
  {
   "cell_type": "code",
   "execution_count": 100,
   "id": "436470f1",
   "metadata": {},
   "outputs": [],
   "source": [
    "from dmba import regressionSummary, exhaustive_search"
   ]
  },
  {
   "cell_type": "code",
   "execution_count": 101,
   "id": "f3a441cc",
   "metadata": {},
   "outputs": [],
   "source": [
    "train_x, test_x, train_y, test_y = train_test_split(x, y, test_size=0.2, random_state=1)"
   ]
  },
  {
   "cell_type": "code",
   "execution_count": 102,
   "id": "b6167164",
   "metadata": {},
   "outputs": [],
   "source": [
    "from sklearn.linear_model import LinearRegression, Lasso, Ridge, LassoCV, BayesianRidge\n",
    "import matplotlib.pylab as plt\n"
   ]
  },
  {
   "cell_type": "code",
   "execution_count": 103,
   "id": "133605cc",
   "metadata": {},
   "outputs": [
    {
     "data": {
      "text/plain": [
       "LinearRegression()"
      ]
     },
     "execution_count": 103,
     "metadata": {},
     "output_type": "execute_result"
    }
   ],
   "source": [
    "data_lm = LinearRegression()\n",
    "data_lm.fit(train_x, train_y)"
   ]
  },
  {
   "cell_type": "code",
   "execution_count": 104,
   "id": "48599de0",
   "metadata": {},
   "outputs": [
    {
     "name": "stdout",
     "output_type": "stream",
     "text": [
      "intercept  [4.74800593]\n",
      "                                           Predictor  \\\n",
      "0  Index(['Chairs', 'Tables', 'Bookcases', 'Furni...   \n",
      "\n",
      "                                         coefficient  \n",
      "0  [[-4.104091126785262, 0.11749607032220949, 6.3...  \n"
     ]
    }
   ],
   "source": [
    "print('intercept ', data_lm.intercept_)\n",
    "print(pd.DataFrame({'Predictor': [x.columns], 'coefficient': [data_lm.coef_]}))"
   ]
  },
  {
   "cell_type": "code",
   "execution_count": 105,
   "id": "c01e7ee4",
   "metadata": {},
   "outputs": [
    {
     "data": {
      "text/plain": [
       "array([[-4.10409113,  0.11749607,  6.33255204, -2.34595698,  0.26285712]])"
      ]
     },
     "execution_count": 105,
     "metadata": {},
     "output_type": "execute_result"
    }
   ],
   "source": [
    "data_lm.coef_"
   ]
  },
  {
   "cell_type": "code",
   "execution_count": 106,
   "id": "4c60b5aa",
   "metadata": {},
   "outputs": [
    {
     "name": "stdout",
     "output_type": "stream",
     "text": [
      "\n",
      "Regression statistics\n",
      "\n",
      "                      Mean Error (ME) : -0.0000\n",
      "       Root Mean Squared Error (RMSE) : 35.8952\n",
      "            Mean Absolute Error (MAE) : 14.6290\n",
      "          Mean Percentage Error (MPE) : -18.8745\n",
      "Mean Absolute Percentage Error (MAPE) : 27.3923\n"
     ]
    }
   ],
   "source": [
    "regressionSummary(train_y, data_lm.predict(train_x))"
   ]
  },
  {
   "cell_type": "code",
   "execution_count": 107,
   "id": "a7c9ab6a",
   "metadata": {},
   "outputs": [
    {
     "name": "stdout",
     "output_type": "stream",
     "text": [
      "adjusted r2 :  0.9279427288386902\n",
      "AIC :  1995.8178969702353\n",
      "BIC :  2005.697811444409\n"
     ]
    }
   ],
   "source": [
    "\n",
    "pred_y = data_lm.predict(train_x)\n",
    "\n",
    "print('adjusted r2 : ', adjusted_r2_score(train_y, pred_y, data_lm))\n",
    "print('AIC : ', AIC_score(train_y, pred_y, data_lm))\n",
    "print('BIC : ', BIC_score(train_y, pred_y, data_lm))"
   ]
  },
  {
   "cell_type": "code",
   "execution_count": 108,
   "id": "14c07837",
   "metadata": {},
   "outputs": [
    {
     "name": "stdout",
     "output_type": "stream",
     "text": [
      "\n",
      "Regression statistics\n",
      "\n",
      "                      Mean Error (ME) : -0.8377\n",
      "       Root Mean Squared Error (RMSE) : 29.0748\n",
      "            Mean Absolute Error (MAE) : 10.9459\n",
      "          Mean Percentage Error (MPE) : -25.8223\n",
      "Mean Absolute Percentage Error (MAPE) : 30.6986\n"
     ]
    }
   ],
   "source": [
    "\n",
    "data_lm_pred = data_lm.predict(test_x)\n",
    "\n",
    "# Compute common accuracy measures\n",
    "regressionSummary(test_y, data_lm_pred)"
   ]
  },
  {
   "cell_type": "code",
   "execution_count": 125,
   "id": "6cfc64d5",
   "metadata": {},
   "outputs": [
    {
     "data": {
      "image/png": "[encoded data removed]",
      "text/plain": [
       "<Figure size 1080x720 with 1 Axes>"
      ]
     },
     "metadata": {
      "needs_background": "light"
     },
     "output_type": "display_data"
    }
   ],
   "source": [
    "Predicted = data_lm_pred\n",
    "Actual=test_y\n",
    "plt.figure(figsize=(15,10))\n",
    "plt.scatter(Actual,Predicted)\n",
    "plt.xlabel('Actual')\n",
    "plt.ylabel('Predicted')\n",
    "plt.title('Actual v/s Predicted')\n",
    "plt.show()"
   ]
  },
  {
   "cell_type": "code",
   "execution_count": 109,
   "id": "afe7430e",
   "metadata": {},
   "outputs": [
    {
     "name": "stdout",
     "output_type": "stream",
     "text": [
      "   n     r2adj          AIC  Bookcases  Chairs  Furnishings  Sales  Tables\n",
      "0  1  0.927482  1997.086429      False   False        False   True   False\n",
      "1  2  0.927829  1996.132118       True   False        False   True   False\n",
      "2  3  0.927917  1995.889321       True   False        False   True    True\n",
      "3  4  0.927943  1995.817897       True    True        False   True    True\n",
      "4  5  0.927943  1995.817897       True    True         True   True    True\n"
     ]
    }
   ],
   "source": [
    "def train_model(variables):\n",
    "    model = LinearRegression()\n",
    "    model.fit(train_x[variables], train_y)\n",
    "    return model\n",
    "\n",
    "def score_model(model, variables):\n",
    "    pred_y = model.predict(train_x[variables])\n",
    "    # we negate as score is optimized to be as low as possible\n",
    "    return -adjusted_r2_score(train_y, pred_y, model)\n",
    "\n",
    "allVariables = train_x.columns\n",
    "results = exhaustive_search(allVariables, train_model, score_model)\n",
    "\n",
    "data = []\n",
    "for result in results:\n",
    "    model = result['model']\n",
    "    variables = result['variables']\n",
    "    AIC = AIC_score(train_y, model.predict(train_x[variables]), model)\n",
    "    d = {'n': result['n'], 'r2adj': -result['score'], 'AIC': AIC}\n",
    "    d.update({var: var in result['variables'] for var in allVariables})\n",
    "    data.append(d)\n",
    "pd.set_option('display.width', 100)\n",
    "print(pd.DataFrame(data, columns=('n', 'r2adj', 'AIC') + tuple(sorted(allVariables))))\n",
    "pd.reset_option('display.width')"
   ]
  },
  {
   "cell_type": "code",
   "execution_count": 110,
   "id": "6ef07d02",
   "metadata": {},
   "outputs": [
    {
     "name": "stdout",
     "output_type": "stream",
     "text": [
      "Variables: Chairs, Tables, Bookcases, Furnishings, Sales\n",
      "Start: score=1995.82\n",
      "Step: score=1995.82, remove Tables\n",
      "Step: score=1995.82, remove None\n",
      "['Chairs', 'Bookcases', 'Furnishings', 'Sales']\n"
     ]
    }
   ],
   "source": [
    "def train_model(variables):\n",
    "    model = LinearRegression()\n",
    "    model.fit(train_x[variables], train_y)\n",
    "    return model\n",
    "\n",
    "def score_model(model, variables):\n",
    "    return AIC_score(train_y, model.predict(train_x[variables]), model)\n",
    "\n",
    "best_model, best_variables = backward_elimination(train_x.columns, train_model, score_model, verbose=True)\n",
    "\n",
    "print(best_variables)"
   ]
  },
  {
   "cell_type": "code",
   "execution_count": 111,
   "id": "0e622276",
   "metadata": {},
   "outputs": [
    {
     "name": "stdout",
     "output_type": "stream",
     "text": [
      "\n",
      "Regression statistics\n",
      "\n",
      "                      Mean Error (ME) : -0.8377\n",
      "       Root Mean Squared Error (RMSE) : 29.0748\n",
      "            Mean Absolute Error (MAE) : 10.9459\n",
      "          Mean Percentage Error (MPE) : -25.8223\n",
      "Mean Absolute Percentage Error (MAPE) : 30.6986\n"
     ]
    }
   ],
   "source": [
    "regressionSummary(test_y, best_model.predict(test_x[best_variables]))"
   ]
  },
  {
   "cell_type": "code",
   "execution_count": 112,
   "id": "dc0354d8",
   "metadata": {},
   "outputs": [
    {
     "name": "stdout",
     "output_type": "stream",
     "text": [
      "Variables: Chairs, Tables, Bookcases, Furnishings, Sales\n",
      "Start: score=2518.25, constant\n",
      "Step: score=1997.09, add Sales\n",
      "Step: score=1996.13, add Bookcases\n",
      "Step: score=1995.89, add Tables\n",
      "Step: score=1995.82, add Chairs\n",
      "Step: score=1995.82, add None\n",
      "['Sales', 'Bookcases', 'Tables', 'Chairs']\n"
     ]
    }
   ],
   "source": [
    "def train_model(variables):\n",
    "    if len(variables) == 0:\n",
    "        return None\n",
    "    model = LinearRegression()\n",
    "    model.fit(train_x[variables], train_y)\n",
    "    return model\n",
    "\n",
    "def score_model(model, variables):\n",
    "    if len(variables) == 0:\n",
    "        return AIC_score(train_y, [train_y.mean()] * len(train_y), model, df=1)\n",
    "    return AIC_score(train_y, model.predict(train_x[variables]), model)\n",
    "\n",
    "best_model, best_variables = forward_selection(train_x.columns, train_model, score_model, verbose=True)\n",
    "\n",
    "print(best_variables)"
   ]
  },
  {
   "cell_type": "code",
   "execution_count": 113,
   "id": "ceff31f5",
   "metadata": {},
   "outputs": [
    {
     "name": "stdout",
     "output_type": "stream",
     "text": [
      "Variables: Chairs, Tables, Bookcases, Furnishings, Sales\n",
      "Start: score=2518.25, constant\n",
      "Step: score=1997.09, add Sales\n",
      "Step: score=1996.13, add Bookcases\n",
      "Step: score=1995.89, add Tables\n",
      "Step: score=1995.82, add Chairs\n",
      "Step: score=1995.82, unchanged None\n",
      "['Sales', 'Bookcases', 'Tables', 'Chairs']\n"
     ]
    }
   ],
   "source": [
    "\n",
    "best_model, best_variables = stepwise_selection(train_x.columns, train_model, score_model, verbose=True)\n",
    "\n",
    "print(best_variables)"
   ]
  },
  {
   "cell_type": "markdown",
   "id": "69a576c4",
   "metadata": {},
   "source": [
    "# final model with best variables"
   ]
  },
  {
   "cell_type": "code",
   "execution_count": 114,
   "id": "d70086d2",
   "metadata": {},
   "outputs": [],
   "source": [
    "data = pd.read_excel(r'C:\\Users\\Akash Sharma\\Downloads\\SampleSuperstorei.xlsx')"
   ]
  },
  {
   "cell_type": "code",
   "execution_count": 142,
   "id": "e8ad2ee3",
   "metadata": {},
   "outputs": [],
   "source": [
    "predictors = ['Sales', 'Bookcases', 'Tables', 'Chairs']\n",
    "outcome = ['Profit']\n",
    "x = data[predictors]\n",
    "y = data[outcome]\n",
    "train_x, test_x, train_y, test_y = train_test_split(x, y, test_size=0.2, random_state=1)\n",
    "data_lm = LinearRegression()\n",
    "data_lm.fit(train_x, train_y)\n",
    "pred_y = data_lm.predict(test_x)"
   ]
  },
  {
   "cell_type": "code",
   "execution_count": 143,
   "id": "c076add5",
   "metadata": {},
   "outputs": [
    {
     "data": {
      "text/plain": [
       "array([[  9.44661964],\n",
       "       [225.21641686],\n",
       "       [  6.07153428],\n",
       "       [105.65490853],\n",
       "       [  9.86719102],\n",
       "       [ 30.89576023],\n",
       "       [  5.59103147],\n",
       "       [ 12.5483336 ],\n",
       "       [ 14.08867629],\n",
       "       [453.34810619],\n",
       "       [ 31.17964592],\n",
       "       [ 14.74056194],\n",
       "       [ 15.00341905],\n",
       "       [ 87.19712573],\n",
       "       [ 88.55609702],\n",
       "       [ 14.78787622],\n",
       "       [ 10.65576237],\n",
       "       [ 70.23811038],\n",
       "       [ 14.76684765],\n",
       "       [  6.60565994],\n",
       "       [ 28.97255182],\n",
       "       [ 27.08117778],\n",
       "       [  3.16696316],\n",
       "       [ 96.01915474],\n",
       "       [ 11.47167085],\n",
       "       [295.45604375],\n",
       "       [ 17.11363597],\n",
       "       [594.84303985],\n",
       "       [ 90.05318539],\n",
       "       [ 46.68401   ],\n",
       "       [ 51.86109798],\n",
       "       [130.01025973],\n",
       "       [ 81.36853206],\n",
       "       [ 42.28273046],\n",
       "       [ 23.40958959],\n",
       "       [ 10.80927092],\n",
       "       [104.94614382],\n",
       "       [ 65.10924234],\n",
       "       [ 27.90970341],\n",
       "       [143.64028831],\n",
       "       [  8.73690543],\n",
       "       [  4.95386582],\n",
       "       [  5.6141629 ],\n",
       "       [ 65.05374543],\n",
       "       [ 24.16661809],\n",
       "       [211.3417669 ],\n",
       "       [513.69894647],\n",
       "       [ 56.38486893],\n",
       "       [167.23234204],\n",
       "       [ 79.93860786]])"
      ]
     },
     "execution_count": 143,
     "metadata": {},
     "output_type": "execute_result"
    }
   ],
   "source": [
    "#predicted value\n",
    "pred_y"
   ]
  },
  {
   "cell_type": "code",
   "execution_count": 138,
   "id": "3a835369",
   "metadata": {},
   "outputs": [
    {
     "data": {
      "text/plain": [
       "array([[  9.38   ],\n",
       "       [213.588  ],\n",
       "       [  3.49   ],\n",
       "       [ 95.8595 ],\n",
       "       [  4.     ],\n",
       "       [ 27.1    ],\n",
       "       [  3.033  ],\n",
       "       [  9.65   ],\n",
       "       [ 11.115  ],\n",
       "       [426.546  ],\n",
       "       [ 27.37   ],\n",
       "       [ 11.735  ],\n",
       "       [ 11.985  ],\n",
       "       [ 80.6475 ],\n",
       "       [ 81.94   ],\n",
       "       [ 20.     ],\n",
       "       [  8.89   ],\n",
       "       [ 64.518  ],\n",
       "       [ 11.76   ],\n",
       "       [  5.5972 ],\n",
       "       [ 26.943  ],\n",
       "       [ 23.472  ],\n",
       "       [  0.7275 ],\n",
       "       [ 80.784  ],\n",
       "       [  8.626  ],\n",
       "       [280.392  ],\n",
       "       [ 13.992  ],\n",
       "       [561.12   ],\n",
       "       [ 90.13816],\n",
       "       [ 42.116  ],\n",
       "       [ 48.712  ],\n",
       "       [113.1125 ],\n",
       "       [ 75.104  ],\n",
       "       [ 37.93   ],\n",
       "       [ 19.98   ],\n",
       "       [  7.996  ],\n",
       "       [105.15253],\n",
       "       [ 59.64   ],\n",
       "       [ 24.26   ],\n",
       "       [136.002  ],\n",
       "       [  6.025  ],\n",
       "       [  2.427  ],\n",
       "       [  3.055  ],\n",
       "       [112.93304],\n",
       "       [ 20.7    ],\n",
       "       [400.     ],\n",
       "       [487.96   ],\n",
       "       [ 53.0145 ],\n",
       "       [177.8976 ],\n",
       "       [ 65.49   ]])"
      ]
     },
     "execution_count": 138,
     "metadata": {},
     "output_type": "execute_result"
    }
   ],
   "source": [
    "#Actual values\n",
    "test_y.values"
   ]
  },
  {
   "cell_type": "code",
   "execution_count": 145,
   "id": "42dfce1d",
   "metadata": {},
   "outputs": [
    {
     "data": {
      "text/plain": [
       "0.9484350052773611"
      ]
     },
     "execution_count": 145,
     "metadata": {},
     "output_type": "execute_result"
    }
   ],
   "source": [
    "from sklearn.metrics import r2_score\n",
    "r2_score(test_y.values,pred_y)"
   ]
  },
  {
   "cell_type": "code",
   "execution_count": 147,
   "id": "fc45fa42",
   "metadata": {},
   "outputs": [
    {
     "data": {
      "image/png": "[encoded data removed]",
      "text/plain": [
       "<Figure size 1080x720 with 1 Axes>"
      ]
     },
     "metadata": {
      "needs_background": "light"
     },
     "output_type": "display_data"
    }
   ],
   "source": [
    "plt.figure(figsize=(15,10))\n",
    "plt.scatter(test_y.values,pred_y)\n",
    "plt.xlabel('Actual')\n",
    "plt.ylabel('Predicted')\n",
    "plt.show()"
   ]
  },
  {
   "cell_type": "code",
   "execution_count": 162,
   "id": "e605b4d0",
   "metadata": {},
   "outputs": [],
   "source": [
    "#checking prediction for new variable"
   ]
  },
  {
   "cell_type": "code",
   "execution_count": 165,
   "id": "727ca6b3",
   "metadata": {},
   "outputs": [
    {
     "data": {
      "text/html": [
       "<div>\n",
       "<style scoped>\n",
       "    .dataframe tbody tr th:only-of-type {\n",
       "        vertical-align: middle;\n",
       "    }\n",
       "\n",
       "    .dataframe tbody tr th {\n",
       "        vertical-align: top;\n",
       "    }\n",
       "\n",
       "    .dataframe thead th {\n",
       "        text-align: right;\n",
       "    }\n",
       "</style>\n",
       "<table border=\"1\" class=\"dataframe\">\n",
       "  <thead>\n",
       "    <tr style=\"text-align: right;\">\n",
       "      <th></th>\n",
       "      <th>Chairs</th>\n",
       "      <th>Tables</th>\n",
       "      <th>Bookcases</th>\n",
       "      <th>Sales</th>\n",
       "    </tr>\n",
       "  </thead>\n",
       "  <tbody>\n",
       "    <tr>\n",
       "      <th>0</th>\n",
       "      <td>0</td>\n",
       "      <td>1</td>\n",
       "      <td>0</td>\n",
       "      <td>5551</td>\n",
       "    </tr>\n",
       "  </tbody>\n",
       "</table>\n",
       "</div>"
      ],
      "text/plain": [
       "   Chairs  Tables  Bookcases  Sales\n",
       "0       0       1          0   5551"
      ]
     },
     "execution_count": 165,
     "metadata": {},
     "output_type": "execute_result"
    }
   ],
   "source": [
    "new_sale = pd.DataFrame([{'Chairs':0, 'Tables':1, 'Bookcases':0,'Sales':5551}])\n",
    "new_sale"
   ]
  },
  {
   "cell_type": "code",
   "execution_count": 166,
   "id": "733cff85",
   "metadata": {},
   "outputs": [
    {
     "name": "stdout",
     "output_type": "stream",
     "text": [
      "profit: [[-9748.32208432]]\n"
     ]
    }
   ],
   "source": [
    "print('profit:',data_lm.predict(new_sale))"
   ]
  },
  {
   "cell_type": "code",
   "execution_count": null,
   "id": "dbd4fc5c",
   "metadata": {},
   "outputs": [],
   "source": []
  },
  {
   "cell_type": "code",
   "execution_count": null,
   "id": "8983dda9",
   "metadata": {},
   "outputs": [],
   "source": []
  },
  {
   "cell_type": "code",
   "execution_count": null,
   "id": "1c8c3aed",
   "metadata": {},
   "outputs": [],
   "source": []
  },
  {
   "cell_type": "code",
   "execution_count": 22,
   "id": "476cc7a8",
   "metadata": {},
   "outputs": [],
   "source": [
    "\n"
   ]
  },
  {
   "cell_type": "code",
   "execution_count": 23,
   "id": "6f00866b",
   "metadata": {},
   "outputs": [],
   "source": []
  },
  {
   "cell_type": "code",
   "execution_count": null,
   "id": "97aae333",
   "metadata": {},
   "outputs": [],
   "source": []
  },
  {
   "cell_type": "code",
   "execution_count": null,
   "id": "2ebc6df3",
   "metadata": {},
   "outputs": [],
   "source": []
  },
  {
   "cell_type": "code",
   "execution_count": null,
   "id": "2aaa3c8a",
   "metadata": {},
   "outputs": [],
   "source": []
  },
  {
   "cell_type": "code",
   "execution_count": null,
   "id": "c11c142a",
   "metadata": {},
   "outputs": [],
   "source": []
  }
 ],
 "metadata": {
  "kernelspec": {
   "display_name": "Python 3",
   "language": "python",
   "name": "python3"
  },
  "language_info": {
   "codemirror_mode": {
    "name": "ipython",
    "version": 3
   },
   "file_extension": ".py",
   "mimetype": "text/x-python",
   "name": "python",
   "nbconvert_exporter": "python",
   "pygments_lexer": "ipython3",
   "version": "3.8.8"
  }
 },
 "nbformat": 4,
 "nbformat_minor": 5
}
